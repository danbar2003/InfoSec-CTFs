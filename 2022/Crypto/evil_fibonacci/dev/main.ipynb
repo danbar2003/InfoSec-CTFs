{
 "cells": [
  {
   "cell_type": "code",
   "execution_count": null,
   "metadata": {
    "collapsed": true
   },
   "outputs": [],
   "source": [
    "from Crypto.Cipher import AES\n",
    "from Crypto.Hash import SHA256\n",
    "from secrets import token_hex\n",
    "\n",
    "p = 2**512 - 569\n",
    "n = int(token_hex(64), 16)\n",
    "\n",
    "# Create task\n",
    "\n",
    "# fib1, fib2 = 0, 1\n",
    "# for _ in range(n - 1):\n",
    "#     fib1, fib2 = fib2, (fib1 + fib2) % p\n",
    "\n",
    "P.<x> = PolynomialRing(GF(p))\n",
    "F512.<y>=GF(p^2, modulus=x^2 - x - 1)\n",
    "fib2 = int(str(y^(n + 1)).split(' + ')[-1])\n",
    "\n",
    "key = SHA256.new(str(fib2).encode()).digest()\n",
    "aes = AES.new(key, AES.MODE_CTR)\n",
    "\n",
    "with open('flag.txt', 'r') as f:\n",
    "    flag = bytes(f.readline(), 'ascii')\n",
    "\n",
    "with open('../task/task.txt', 'w') as f:\n",
    "    f.write(aes.encrypt(flag).hex() + '\\n')\n",
    "    f.write(aes.nonce.hex() + '\\n')\n",
    "    f.write(hex(n)[2:])\n",
    "\n",
    "# Solve task\n",
    "\n",
    "with open('../task/task.txt', 'r') as f:\n",
    "    ct = bytes.fromhex(f.readline())\n",
    "    iv = bytes.fromhex(f.readline())\n",
    "    n = int(f.readline(), 16)\n",
    "\n",
    "P.<x> = PolynomialRing(GF(p))\n",
    "F512.<y>=GF(p^2, modulus=x^2 - x - 1)\n",
    "fib = str(y^(n + 1)).split(' + ')[-1]\n",
    "\n",
    "key = SHA256.new(fib.encode()).digest()\n",
    "aes = AES.new(key, AES.MODE_CTR, nonce=iv)\n",
    "print(aes.decrypt(ct))"
   ]
  }
 ],
 "metadata": {
  "kernelspec": {
   "display_name": "Python 3",
   "language": "python",
   "name": "python3"
  },
  "language_info": {
   "codemirror_mode": {
    "name": "ipython",
    "version": 2
   },
   "file_extension": ".py",
   "mimetype": "text/x-python",
   "name": "python",
   "nbconvert_exporter": "python",
   "pygments_lexer": "ipython2",
   "version": "2.7.6"
  }
 },
 "nbformat": 4,
 "nbformat_minor": 0
}
